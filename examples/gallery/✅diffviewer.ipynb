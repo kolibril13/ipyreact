{
 "cells": [
  {
   "cell_type": "code",
   "execution_count": null,
   "metadata": {},
   "outputs": [],
   "source": [
    "import ipyreact\n",
    "\n",
    "# from https://www.npmjs.com/package/world-daylight-map\n",
    "\n",
    "from traitlets import Bool,Unicode, signature_has_traits\n",
    "\n",
    "@signature_has_traits\n",
    "class DiffViewerWidget(ipyreact.ReactWidget):\n",
    "    code_a = Unicode('Hello World').tag(sync=True)\n",
    "    code_b = Unicode('Hello New World').tag(sync=True)\n",
    "    split_view = Bool(True).tag(sync=True)\n",
    "    \n",
    "    _esm = \"\"\"\n",
    "    import React from 'react';\n",
    "    import ReactDiffViewer from 'react-diff-viewer';\n",
    "\n",
    "    export default function App({ code_a, code_b, split_view }) {\n",
    "        return (\n",
    "            <div\n",
    "                style={{\n",
    "                    position: \"relative\",\n",
    "                    width: \"500px\",\n",
    "                }}\n",
    "            >\n",
    "                <ReactDiffViewer oldValue={code_a} newValue={code_b} splitView={split_view} />\n",
    "            </div>\n",
    "        );\n",
    "    }\n",
    "    \"\"\""
   ]
  },
  {
   "cell_type": "code",
   "execution_count": null,
   "metadata": {},
   "outputs": [],
   "source": [
    "DiffViewerWidget(\n",
    "    code_a='Cats purr gently', \n",
    "    code_b='Cats meow softly' \n",
    "    )"
   ]
  },
  {
   "cell_type": "code",
   "execution_count": null,
   "metadata": {},
   "outputs": [],
   "source": []
  }
 ],
 "metadata": {
  "kernelspec": {
   "display_name": "napari-env2",
   "language": "python",
   "name": "python3"
  },
  "language_info": {
   "codemirror_mode": {
    "name": "ipython",
    "version": 3
   },
   "file_extension": ".py",
   "mimetype": "text/x-python",
   "name": "python",
   "nbconvert_exporter": "python",
   "pygments_lexer": "ipython3",
   "version": "3.9.15"
  },
  "orig_nbformat": 4
 },
 "nbformat": 4,
 "nbformat_minor": 2
}
